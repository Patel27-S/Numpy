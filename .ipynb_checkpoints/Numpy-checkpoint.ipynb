{
 "cells": [
  {
   "cell_type": "code",
   "execution_count": 5,
   "id": "7f6bca33-b192-476f-83b6-bb25fd85adab",
   "metadata": {},
   "outputs": [],
   "source": [
    "import numpy as np"
   ]
  },
  {
   "cell_type": "code",
   "execution_count": 7,
   "id": "82ee5575-7c03-4bfa-8e4b-a1ef9188c21b",
   "metadata": {},
   "outputs": [],
   "source": [
    "my_arr = np.arange(1000000)"
   ]
  },
  {
   "cell_type": "code",
   "execution_count": 8,
   "id": "9ef705cb-4baa-42b2-a14e-f95d59e1cde4",
   "metadata": {},
   "outputs": [],
   "source": [
    "my_list = list(range(1000000))"
   ]
  },
  {
   "cell_type": "code",
   "execution_count": 9,
   "id": "85e00450-0545-4fe4-99e3-388fbdf933bf",
   "metadata": {},
   "outputs": [
    {
     "name": "stdout",
     "output_type": "stream",
     "text": [
      "Wall time: 13.2 ms\n"
     ]
    }
   ],
   "source": [
    "%time for _ in range(10): my_arr = my_arr * 2"
   ]
  },
  {
   "cell_type": "code",
   "execution_count": 11,
   "id": "b4bb1668-3260-4500-80b9-a6c3354be157",
   "metadata": {},
   "outputs": [
    {
     "name": "stdout",
     "output_type": "stream",
     "text": [
      "Wall time: 461 ms\n"
     ]
    }
   ],
   "source": [
    "%time for _ in range(10): [x*2 for x in my_list]"
   ]
  },
  {
   "cell_type": "code",
   "execution_count": 12,
   "id": "002e8382-5896-4eba-9727-4170de6be778",
   "metadata": {},
   "outputs": [],
   "source": [
    "array_ji = np.array([1,2,3,4,5,6,7,8,9])"
   ]
  },
  {
   "cell_type": "code",
   "execution_count": 13,
   "id": "d17a4f93-a418-42c0-ae01-7452953e226e",
   "metadata": {},
   "outputs": [
    {
     "data": {
      "text/plain": [
       "array([1, 2, 3, 4, 5, 6, 7, 8, 9])"
      ]
     },
     "execution_count": 13,
     "metadata": {},
     "output_type": "execute_result"
    }
   ],
   "source": [
    "array_ji"
   ]
  },
  {
   "cell_type": "code",
   "execution_count": 14,
   "id": "eb87dc5b-2f3c-4788-b3e9-75e831288e78",
   "metadata": {},
   "outputs": [
    {
     "data": {
      "text/plain": [
       "array([ 2,  4,  6,  8, 10, 12, 14, 16, 18])"
      ]
     },
     "execution_count": 14,
     "metadata": {},
     "output_type": "execute_result"
    }
   ],
   "source": [
    "array_ji*2"
   ]
  },
  {
   "cell_type": "code",
   "execution_count": 15,
   "id": "dfd29b1e-c2d6-4935-a602-896adb65cb46",
   "metadata": {},
   "outputs": [
    {
     "data": {
      "text/plain": [
       "array([ 2,  4,  6,  8, 10, 12, 14, 16, 18])"
      ]
     },
     "execution_count": 15,
     "metadata": {},
     "output_type": "execute_result"
    }
   ],
   "source": [
    "array_ji+array_ji"
   ]
  },
  {
   "cell_type": "code",
   "execution_count": 16,
   "id": "e3209882-4941-47ff-a166-ec2ad68f50aa",
   "metadata": {},
   "outputs": [],
   "source": [
    "data2 = np.array([[1,2,3], [4,5,6]])"
   ]
  },
  {
   "cell_type": "code",
   "execution_count": 17,
   "id": "224469c7-81a6-4f2a-9285-590503cb59fc",
   "metadata": {},
   "outputs": [
    {
     "data": {
      "text/plain": [
       "array([[1, 2, 3],\n",
       "       [4, 5, 6]])"
      ]
     },
     "execution_count": 17,
     "metadata": {},
     "output_type": "execute_result"
    }
   ],
   "source": [
    "data2"
   ]
  },
  {
   "cell_type": "code",
   "execution_count": 18,
   "id": "312abf44-0ace-42d5-85fa-33d4df508f34",
   "metadata": {},
   "outputs": [
    {
     "data": {
      "text/plain": [
       "(2, 3)"
      ]
     },
     "execution_count": 18,
     "metadata": {},
     "output_type": "execute_result"
    }
   ],
   "source": [
    "data2.shape"
   ]
  },
  {
   "cell_type": "code",
   "execution_count": 19,
   "id": "50dfe38a-5820-4238-910f-50eef28be699",
   "metadata": {},
   "outputs": [
    {
     "data": {
      "text/plain": [
       "2"
      ]
     },
     "execution_count": 19,
     "metadata": {},
     "output_type": "execute_result"
    }
   ],
   "source": [
    "data2.ndim # This attribute will tell the dimensions of an array"
   ]
  },
  {
   "cell_type": "code",
   "execution_count": 20,
   "id": "7f9aad34-c6b0-49d2-8ac7-91b49d75da89",
   "metadata": {},
   "outputs": [
    {
     "data": {
      "text/plain": [
       "array([ 0,  1,  2,  3,  4,  5,  6,  7,  8,  9, 10, 11, 12, 13, 14])"
      ]
     },
     "execution_count": 20,
     "metadata": {},
     "output_type": "execute_result"
    }
   ],
   "source": [
    "np.arange(15)"
   ]
  },
  {
   "cell_type": "code",
   "execution_count": 21,
   "id": "63f918fe-45e1-4ead-b1c0-b9fbef94197c",
   "metadata": {},
   "outputs": [
    {
     "name": "stdout",
     "output_type": "stream",
     "text": [
      "int32\n",
      "\n",
      "float64\n"
     ]
    }
   ],
   "source": [
    "# We can easily cast the datatype of an arrray from one to another type :-\n",
    " \n",
    "# Let us consider below as base array \n",
    "# It has 'int32' as its datatype :\n",
    "\n",
    "array_1 = np.array([1,2,3,4,5])\n",
    "\n",
    "print(array_1.dtype)\n",
    "\n",
    "print()\n",
    "\n",
    "array_2 = array_1.astype('float64')\n",
    "\n",
    "print(array_2.dtype)\n",
    "    \n",
    "\n"
   ]
  },
  {
   "cell_type": "code",
   "execution_count": 22,
   "id": "1837b4e7-7419-4f0f-87b3-326fb8c8fb87",
   "metadata": {},
   "outputs": [
    {
     "name": "stdout",
     "output_type": "stream",
     "text": [
      "[ 1 -3  8]\n"
     ]
    }
   ],
   "source": [
    "\n",
    "# Now, let us convert/cast a decimal type to an integer type :\n",
    "\n",
    "array_1 = np.array([1.2, -3.6, 8.96])\n",
    "\n",
    "array_2 = array_1.astype('int32')\n",
    "\n",
    "print(array_2)"
   ]
  },
  {
   "cell_type": "code",
   "execution_count": 23,
   "id": "2217485b-8421-4560-a2f4-59e40cb07bc8",
   "metadata": {},
   "outputs": [],
   "source": [
    "# What we have observed from above is that if we type case a float datatype array to integer type :\n",
    "# Then, all the decimal part is removed/truncated. \n",
    "\n",
    "# Note :- In typecasting usually, the ceiling value or floor value is returned eventually.\n",
    "# But, here just the removal of after decimal digits happens."
   ]
  },
  {
   "cell_type": "code",
   "execution_count": 24,
   "id": "8f574c2f-882d-4e9d-b52a-3472d31ee9f3",
   "metadata": {},
   "outputs": [
    {
     "data": {
      "text/plain": [
       "array([ 1, -3,  8])"
      ]
     },
     "execution_count": 24,
     "metadata": {},
     "output_type": "execute_result"
    }
   ],
   "source": [
    "array_2"
   ]
  },
  {
   "cell_type": "code",
   "execution_count": 25,
   "id": "af88d416-ac78-4f19-8e8e-26d7706629ac",
   "metadata": {},
   "outputs": [
    {
     "data": {
      "text/plain": [
       "array([ 1., -3.,  8.])"
      ]
     },
     "execution_count": 25,
     "metadata": {},
     "output_type": "execute_result"
    }
   ],
   "source": [
    "array_2.astype(array_1.dtype)"
   ]
  },
  {
   "cell_type": "code",
   "execution_count": 4,
   "id": "5a6ec4a2-852c-408a-9756-7f6b801f11cd",
   "metadata": {},
   "outputs": [],
   "source": [
    "import numpy as np"
   ]
  },
  {
   "cell_type": "code",
   "execution_count": 6,
   "id": "93468d34-a58c-4984-a7e2-b3a5b39de665",
   "metadata": {},
   "outputs": [],
   "source": [
    "arr = np.array([[1,2,3], [4,5,6]])"
   ]
  },
  {
   "cell_type": "code",
   "execution_count": 7,
   "id": "d854f265-38a4-4a47-9d47-9c7b6d222c65",
   "metadata": {},
   "outputs": [
    {
     "data": {
      "text/plain": [
       "array([[1, 2, 3],\n",
       "       [4, 5, 6]])"
      ]
     },
     "execution_count": 7,
     "metadata": {},
     "output_type": "execute_result"
    }
   ],
   "source": [
    "arr"
   ]
  },
  {
   "cell_type": "code",
   "execution_count": 9,
   "id": "2d574479-fe3f-4182-801e-8c97ca8b055d",
   "metadata": {},
   "outputs": [
    {
     "data": {
      "text/plain": [
       "2"
      ]
     },
     "execution_count": 9,
     "metadata": {},
     "output_type": "execute_result"
    }
   ],
   "source": [
    "arr.ndim"
   ]
  },
  {
   "cell_type": "code",
   "execution_count": 10,
   "id": "0887ff72-ceaf-4d67-9964-ddfe5f2f57ed",
   "metadata": {},
   "outputs": [
    {
     "data": {
      "text/plain": [
       "(2, 3)"
      ]
     },
     "execution_count": 10,
     "metadata": {},
     "output_type": "execute_result"
    }
   ],
   "source": [
    "arr.shape"
   ]
  },
  {
   "cell_type": "code",
   "execution_count": 11,
   "id": "a049297e-905f-4269-8e95-96e301fa069f",
   "metadata": {},
   "outputs": [
    {
     "data": {
      "text/plain": [
       "5"
      ]
     },
     "execution_count": 11,
     "metadata": {},
     "output_type": "execute_result"
    }
   ],
   "source": [
    "arr[1][1]"
   ]
  },
  {
   "cell_type": "code",
   "execution_count": 12,
   "id": "c7d906c4-2502-4217-8cfa-7af7526380e0",
   "metadata": {},
   "outputs": [
    {
     "data": {
      "text/plain": [
       "array([[1, 2, 3],\n",
       "       [4, 5, 6]])"
      ]
     },
     "execution_count": 12,
     "metadata": {},
     "output_type": "execute_result"
    }
   ],
   "source": [
    "arr[:2 : 1]"
   ]
  },
  {
   "cell_type": "code",
   "execution_count": 13,
   "id": "670f882f-ad69-4c53-9f88-8d135a919668",
   "metadata": {},
   "outputs": [],
   "source": [
    "arr3d = np.array([[[1, 2, 3], [4, 5, 6]], [[7, 8, 9], [10, 11, 12]]]) # This is a 3-D array"
   ]
  },
  {
   "cell_type": "code",
   "execution_count": 14,
   "id": "b0a233c3-9e4e-4628-bfe7-a885e86e33bd",
   "metadata": {},
   "outputs": [
    {
     "data": {
      "text/plain": [
       "(2, 2, 3)"
      ]
     },
     "execution_count": 14,
     "metadata": {},
     "output_type": "execute_result"
    }
   ],
   "source": [
    "arr3d.shape"
   ]
  },
  {
   "cell_type": "code",
   "execution_count": 15,
   "id": "13f7af92-1ee9-4a39-bfc5-f862b0d62e37",
   "metadata": {},
   "outputs": [
    {
     "data": {
      "text/plain": [
       "array([[1, 2, 3],\n",
       "       [4, 5, 6]])"
      ]
     },
     "execution_count": 15,
     "metadata": {},
     "output_type": "execute_result"
    }
   ],
   "source": [
    "arr3d[0]"
   ]
  },
  {
   "cell_type": "code",
   "execution_count": 16,
   "id": "5151cdfe-e496-46c7-90ec-061ff47bc633",
   "metadata": {},
   "outputs": [
    {
     "data": {
      "text/plain": [
       "8"
      ]
     },
     "execution_count": 16,
     "metadata": {},
     "output_type": "execute_result"
    }
   ],
   "source": [
    "arr3d[1][0][1]"
   ]
  },
  {
   "cell_type": "code",
   "execution_count": 17,
   "id": "22cb7276-7091-4b7b-88c3-e93a00aaf89c",
   "metadata": {},
   "outputs": [
    {
     "data": {
      "text/plain": [
       "3"
      ]
     },
     "execution_count": 17,
     "metadata": {},
     "output_type": "execute_result"
    }
   ],
   "source": [
    "arr3d.ndim"
   ]
  },
  {
   "cell_type": "code",
   "execution_count": 18,
   "id": "ace14ec0-f5f5-4faf-be31-af283f795961",
   "metadata": {},
   "outputs": [],
   "source": [
    " arr3d[0] = 42"
   ]
  },
  {
   "cell_type": "code",
   "execution_count": 19,
   "id": "70555c28-644a-45ea-93f4-9a5b86151c0f",
   "metadata": {},
   "outputs": [
    {
     "data": {
      "text/plain": [
       "array([[[42, 42, 42],\n",
       "        [42, 42, 42]],\n",
       "\n",
       "       [[ 7,  8,  9],\n",
       "        [10, 11, 12]]])"
      ]
     },
     "execution_count": 19,
     "metadata": {},
     "output_type": "execute_result"
    }
   ],
   "source": [
    "arr3d"
   ]
  },
  {
   "cell_type": "code",
   "execution_count": 20,
   "id": "85d4059a-cb27-49a5-9d86-17bd1c454e48",
   "metadata": {},
   "outputs": [],
   "source": [
    "arr3d[0] = [[1,2,3], [4,5,6]]"
   ]
  },
  {
   "cell_type": "code",
   "execution_count": 21,
   "id": "7dd31147-2a3f-428f-8a7f-182675463f13",
   "metadata": {},
   "outputs": [
    {
     "data": {
      "text/plain": [
       "array([[[ 1,  2,  3],\n",
       "        [ 4,  5,  6]],\n",
       "\n",
       "       [[ 7,  8,  9],\n",
       "        [10, 11, 12]]])"
      ]
     },
     "execution_count": 21,
     "metadata": {},
     "output_type": "execute_result"
    }
   ],
   "source": [
    "arr3d"
   ]
  },
  {
   "cell_type": "code",
   "execution_count": 22,
   "id": "e6de1c06-00b3-42d8-9aae-d20a86eea1e3",
   "metadata": {},
   "outputs": [],
   "source": [
    "arr = np.array([ 0, 1, 2, 3, 4, 64, 64, 64, 8, 9])"
   ]
  },
  {
   "cell_type": "code",
   "execution_count": 23,
   "id": "b5b338a4-590c-4a7c-8ab5-339c3fa12ce9",
   "metadata": {},
   "outputs": [
    {
     "data": {
      "text/plain": [
       "array([ 0,  1,  2,  3,  4, 64, 64, 64,  8,  9])"
      ]
     },
     "execution_count": 23,
     "metadata": {},
     "output_type": "execute_result"
    }
   ],
   "source": [
    "arr"
   ]
  },
  {
   "cell_type": "code",
   "execution_count": 24,
   "id": "1570abd0-fbec-453f-9a90-57bdb77c7bda",
   "metadata": {},
   "outputs": [
    {
     "data": {
      "text/plain": [
       "array([ 0,  1,  2,  3,  4, 64])"
      ]
     },
     "execution_count": 24,
     "metadata": {},
     "output_type": "execute_result"
    }
   ],
   "source": [
    "arr[0:6]"
   ]
  },
  {
   "cell_type": "code",
   "execution_count": 25,
   "id": "db1d1444-a277-4363-aaf0-52df635698fa",
   "metadata": {},
   "outputs": [
    {
     "data": {
      "text/plain": [
       "array([1, 2, 3])"
      ]
     },
     "execution_count": 25,
     "metadata": {},
     "output_type": "execute_result"
    }
   ],
   "source": [
    "arr[1:4]"
   ]
  },
  {
   "cell_type": "code",
   "execution_count": 26,
   "id": "1e320822-e03e-459c-bd38-44bb81c6ee8b",
   "metadata": {},
   "outputs": [],
   "source": [
    " arr2d = np.array([[1, 2, 3], [4, 5, 6], [7, 8, 9]])"
   ]
  },
  {
   "cell_type": "code",
   "execution_count": 27,
   "id": "35f31644-63dd-4d1a-a5de-66d2067e31d7",
   "metadata": {},
   "outputs": [
    {
     "data": {
      "text/plain": [
       "array([[1, 2, 3],\n",
       "       [4, 5, 6],\n",
       "       [7, 8, 9]])"
      ]
     },
     "execution_count": 27,
     "metadata": {},
     "output_type": "execute_result"
    }
   ],
   "source": [
    "arr2d"
   ]
  },
  {
   "cell_type": "code",
   "execution_count": 28,
   "id": "2a01cd41-16f1-4469-a3b7-768934dc25b1",
   "metadata": {},
   "outputs": [
    {
     "data": {
      "text/plain": [
       "array([4, 5, 6])"
      ]
     },
     "execution_count": 28,
     "metadata": {},
     "output_type": "execute_result"
    }
   ],
   "source": [
    "arr2d[1]"
   ]
  },
  {
   "cell_type": "code",
   "execution_count": 30,
   "id": "04d7e873-33d7-4b3b-9feb-a066210c7f0a",
   "metadata": {},
   "outputs": [
    {
     "data": {
      "text/plain": [
       "array([3, 6, 9])"
      ]
     },
     "execution_count": 30,
     "metadata": {},
     "output_type": "execute_result"
    }
   ],
   "source": [
    "# For extracting only the last column from arr2d :-\n",
    "arr2d[:3 , 2]"
   ]
  },
  {
   "cell_type": "code",
   "execution_count": 31,
   "id": "923b6d5b-43ee-4eb9-af55-df68a214be23",
   "metadata": {},
   "outputs": [
    {
     "data": {
      "text/plain": [
       "array([[1],\n",
       "       [4],\n",
       "       [7]])"
      ]
     },
     "execution_count": 31,
     "metadata": {},
     "output_type": "execute_result"
    }
   ],
   "source": [
    "arr2d[:, :1] # That's all the rows and only the first column.\n"
   ]
  },
  {
   "cell_type": "code",
   "execution_count": null,
   "id": "bad5504b-de36-4170-b787-aa4f32a86775",
   "metadata": {},
   "outputs": [],
   "source": []
  }
 ],
 "metadata": {
  "kernelspec": {
   "display_name": "Python 3 (ipykernel)",
   "language": "python",
   "name": "python3"
  },
  "language_info": {
   "codemirror_mode": {
    "name": "ipython",
    "version": 3
   },
   "file_extension": ".py",
   "mimetype": "text/x-python",
   "name": "python",
   "nbconvert_exporter": "python",
   "pygments_lexer": "ipython3",
   "version": "3.9.6"
  }
 },
 "nbformat": 4,
 "nbformat_minor": 5
}
